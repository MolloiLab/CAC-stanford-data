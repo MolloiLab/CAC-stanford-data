{
 "cells": [
  {
   "cell_type": "markdown",
   "metadata": {},
   "source": [
    "## Imports"
   ]
  },
  {
   "cell_type": "code",
   "execution_count": 3,
   "metadata": {},
   "outputs": [],
   "source": [
    "import numpy as np\n",
    "np.seterr(all='ignore')\n",
    "import os, os.path\n",
    "import pydicom\n",
    "import cv2\n",
    "import math\n",
    "import matplotlib.pyplot as plt\n",
    "import scipy.ndimage\n",
    "import scipy.signal\n",
    "from scipy.interpolate import RegularGridInterpolator as rgi\n",
    "import collections\n",
    "import copy\n",
    "import xlsxwriter\n",
    "from datetime import date\n",
    "from tqdm import tqdm\n",
    "import statistics\n",
    "import gc\n",
    "from skimage.transform import rotate\n",
    "import scipy.interpolate as inter\n",
    "from scipy.ndimage.interpolation import shift\n",
    "from numpy.polynomial import Polynomial as Poly\n",
    "from operator import itemgetter\n",
    "from itertools import *\n",
    "from scipy import optimize"
   ]
  },
  {
   "cell_type": "markdown",
   "metadata": {},
   "source": [
    "## Functions"
   ]
  },
  {
   "cell_type": "markdown",
   "metadata": {},
   "source": [
    "### `dcm_reader`"
   ]
  },
  {
   "cell_type": "code",
   "execution_count": 4,
   "metadata": {},
   "outputs": [],
   "source": [
    "def dcm_reader(dcm_path):\n",
    "    #read dcm_files from path\n",
    "    #path certainly contains DCM files, as tested by dcm_list_builder function\n",
    "    dcm_files = []\n",
    "    for (dirpath, dirnames, filenames) in os.walk(dcm_path,topdown=False):\n",
    "        for filename in filenames:\n",
    "            try:\n",
    "                if not filename == 'DIRFILE':   \n",
    "                    dcm_file = str(os.path.join(dirpath, filename))\n",
    "                    pydicom.read_file(dcm_file, stop_before_pixels = True)\n",
    "                    dcm_files.append(dcm_file)\n",
    "            except:\n",
    "                pass\n",
    "\n",
    "    read_RefDs = True\n",
    "    while read_RefDs:\n",
    "        for index in range(len(dcm_files)):\n",
    "            try:\n",
    "                RefDs = pydicom.read_file(dcm_files[index], stop_before_pixels = False)\n",
    "                read_RefDs = False\n",
    "                break\n",
    "            except:\n",
    "                pass\n",
    "    \n",
    "    slice_thick_ori = RefDs.SliceThickness\n",
    "    \n",
    "    ConstPixelDims = (int(RefDs.Rows), int(RefDs.Columns), len(dcm_files))\n",
    "    dcm_array = np.zeros([ConstPixelDims[0],ConstPixelDims[1],len(dcm_files)],\\\n",
    "                          dtype=RefDs.pixel_array.dtype) \n",
    "\n",
    "    instances = []    \n",
    "    for filenameDCM in dcm_files:\n",
    "        try:\n",
    "            ds = pydicom.read_file(filenameDCM, stop_before_pixels = True)\n",
    "            instances.append(int(ds.InstanceNumber))\n",
    "        except:\n",
    "            pass\n",
    "    \n",
    "    instances.sort()\n",
    "\n",
    "    index = 0\n",
    "    for filenameDCM in dcm_files:\n",
    "        try:\n",
    "            ds = pydicom.read_file(filenameDCM)\n",
    "            dcm_array[:,:,instances.index(ds.InstanceNumber)] = ds.pixel_array\n",
    "            if ds.InstanceNumber in instances[:2]:\n",
    "                if ds.InstanceNumber == instances[0]:\n",
    "                    loc_1 = ds.SliceLocation\n",
    "                else:\n",
    "                    loc_2 = ds.SliceLocation\n",
    "            index += 1\n",
    "        except:\n",
    "            pass\n",
    "        \n",
    "    try:\n",
    "        RefDs.SliceThickness = abs(loc_1 - loc_2)\n",
    "    except:\n",
    "        pass\n",
    "        \n",
    "        \n",
    "    dcm_array = dcm_array * RefDs.RescaleSlope + RefDs.RescaleIntercept\n",
    "    return RefDs, dcm_array, slice_thick_ori"
   ]
  },
  {
   "cell_type": "code",
   "execution_count": 5,
   "metadata": {},
   "outputs": [],
   "source": [
    "tst_path = \"/Users/daleblack/Google Drive/Datasets/Canon_Aquilion_One_Vision/\""
   ]
  },
  {
   "cell_type": "code",
   "execution_count": 6,
   "metadata": {},
   "outputs": [
    {
     "data": {
      "text/plain": [
       "(Dataset.file_meta -------------------------------\n",
       " (0002, 0000) File Meta Information Group Length  UL: 190\n",
       " (0002, 0001) File Meta Information Version       OB: b'\\x00\\x01'\n",
       " (0002, 0002) Media Storage SOP Class UID         UI: CT Image Storage\n",
       " (0002, 0003) Media Storage SOP Instance UID      UI: 1.2.392.200036.9116.2.6.1.3268.2051117512.1455185286.537752\n",
       " (0002, 0010) Transfer Syntax UID                 UI: Implicit VR Little Endian\n",
       " (0002, 0012) Implementation Class UID            UI: 1.2.40.0.13.1.1.1\n",
       " (0002, 0013) Implementation Version Name         SH: 'dcm4che-1.4.31'\n",
       " -------------------------------------------------\n",
       " (0008, 0000) Group Length                        UL: 476\n",
       " (0008, 0005) Specific Character Set              CS: 'ISO_IR 100'\n",
       " (0008, 0008) Image Type                          CS: ['DERIVED', 'PRIMARY', 'MPR']\n",
       " (0008, 0016) SOP Class UID                       UI: CT Image Storage\n",
       " (0008, 0018) SOP Instance UID                    UI: 1.2.392.200036.9116.2.6.1.3268.2051117512.1455185286.537752\n",
       " (0008, 0020) Study Date                          DA: '20160211'\n",
       " (0008, 0021) Series Date                         DA: '20160211'\n",
       " (0008, 0022) Acquisition Date                    DA: '20160211'\n",
       " (0008, 0023) Content Date                        DA: '20160211'\n",
       " (0008, 0030) Study Time                          TM: '183801.000'\n",
       " (0008, 0031) Series Time                         TM: '190804.818'\n",
       " (0008, 0032) Acquisition Time                    TM: '190805.450'\n",
       " (0008, 0033) Content Time                        TM: '190806.723'\n",
       " (0008, 0050) Accession Number                    SH: '458'\n",
       " (0008, 0060) Modality                            CS: 'CT'\n",
       " (0008, 0061) Modalities in Study                 CS: ['CT', 'SR']\n",
       " (0008, 0070) Manufacturer                        LO: 'TOSHIBA'\n",
       " (0008, 0080) Institution Name                    LO: 'Martini Ziekenhuis'\n",
       " (0008, 0081) Institution Address                 ST: 'van Swietenplein 1'\n",
       " (0008, 0090) Referring Physician's Name          PN: ''\n",
       " (0008, 1010) Station Name                        SH: 'AquilionONE'\n",
       " (0008, 103e) Series Description                  LO: 'Cardiac 3.000'\n",
       " (0008, 1040) Institutional Department Name       LO: 'Radiologie'\n",
       " (0008, 1090) Manufacturer's Model Name           LO: 'Aquilion ONE'\n",
       " (0010, 0000) Group Length                        UL: 62\n",
       " (0010, 0010) Patient's Name                      PN: 'ONE VISION'\n",
       " (0010, 0020) Patient ID                          LO: 'TOSHIBA'\n",
       " (0010, 0021) Issuer of Patient ID                LO: 'MZG'\n",
       " (0010, 0030) Patient's Birth Date                DA: ''\n",
       " (0010, 0040) Patient's Sex                       CS: ''\n",
       " (0018, 0000) Group Length                        UL: 446\n",
       " (0018, 0015) Body Part Examined                  CS: 'CHEST'\n",
       " (0018, 0022) Scan Options                        CS: 'VOLUME_CT'\n",
       " (0018, 0050) Slice Thickness                     DS: \"3.0\"\n",
       " (0018, 0060) KVP                                 DS: \"120.0\"\n",
       " (0018, 0090) Data Collection Diameter            DS: \"320.0\"\n",
       " (0018, 1000) Device Serial Number                LO: '1CD13X2083'\n",
       " (0018, 1020) Software Versions                   LO: 'V7.03ER001'\n",
       " (0018, 1030) Protocol Name                       LO: 'Calcium Score    (Volume)'\n",
       " (0018, 1100) Reconstruction Diameter             DS: \"250.0\"\n",
       " (0018, 1120) Gantry/Detector Tilt                DS: \"0.0\"\n",
       " (0018, 1130) Table Height                        DS: \"96.0\"\n",
       " (0018, 1140) Rotation Direction                  CS: 'CW'\n",
       " (0018, 1150) Exposure Time                       IS: \"275\"\n",
       " (0018, 1151) X-Ray Tube Current                  IS: \"480\"\n",
       " (0018, 1152) Exposure                            IS: \"84\"\n",
       " (0018, 1160) Filter Type                         SH: 'MEDIUM'\n",
       " (0018, 1170) Generator Power                     IS: \"57\"\n",
       " (0018, 1190) Focal Spot(s)                       DS: [1.6, 1.5]\n",
       " (0018, 1210) Convolution Kernel                  SH: 'FC12'\n",
       " (0018, 5100) Patient Position                    CS: 'FFS'\n",
       " (0018, 9302) Acquisition Type                    CS: 'SEQUENCED'\n",
       " (0018, 9305) Revolution Time                     FD: 0.275\n",
       " (0018, 9306) Single Collimation Width            FD: 0.5\n",
       " (0018, 9307) Total Collimation Width             FD: 140.0\n",
       " (0018, 9318) Reconstruction Target Center (Patie FD: [0.0, 0.0, 573.875]\n",
       " (0018, 9324) Estimated Dose Saving               FD: 0.0\n",
       " (0018, 9327) Table Position                      FD: 99.125\n",
       " (0018, 9334) Fluoroscopy Flag                    CS: 'NO'\n",
       " (0018, 9345) CTDIvol                             FD: 12.8\n",
       " (0020, 0000) Group Length                        UL: 418\n",
       " (0020, 000d) Study Instance UID                  UI: 1.2.392.200036.9116.2.6.1.3268.2051117512.1455183481.419226\n",
       " (0020, 000e) Series Instance UID                 UI: 1.2.392.200036.9116.2.6.1.3268.2051117512.1455185283.786246\n",
       " (0020, 0010) Study ID                            SH: '7977'\n",
       " (0020, 0011) Series Number                       IS: \"29\"\n",
       " (0020, 0012) Acquisition Number                  IS: \"3\"\n",
       " (0020, 0013) Instance Number                     IS: \"34\"\n",
       " (0020, 0020) Patient Orientation                 CS: ['L', 'P']\n",
       " (0020, 0032) Image Position (Patient)            DS: [-128.50580, -106.00581, 573.87500]\n",
       " (0020, 0037) Image Orientation (Patient)         DS: [1.00000, 0.00000, 0.00000, 0.00000, 1.00000, 0.00000]\n",
       " (0020, 0052) Frame of Reference UID              UI: 1.2.392.200036.9116.2.6.1.3268.2051117512.1455185011.345834\n",
       " (0020, 1040) Position Reference Indicator        LO: ''\n",
       " (0020, 1041) Slice Location                      DS: \"99.125\"\n",
       " (0020, 1208) Number of Study Related Instances   IS: \"2836\"\n",
       " (0020, 4000) Image Comments                      LT: 'Calcium\\\\Score\\\\Axial'\n",
       " (0028, 0000) Group Length                        UL: 158\n",
       " (0028, 0002) Samples per Pixel                   US: 1\n",
       " (0028, 0004) Photometric Interpretation          CS: 'MONOCHROME2'\n",
       " (0028, 0010) Rows                                US: 512\n",
       " (0028, 0011) Columns                             US: 512\n",
       " (0028, 0030) Pixel Spacing                       DS: [0.488000, 0.488000]\n",
       " (0028, 0100) Bits Allocated                      US: 16\n",
       " (0028, 0101) Bits Stored                         US: 16\n",
       " (0028, 0102) High Bit                            US: 15\n",
       " (0028, 0103) Pixel Representation                US: 1\n",
       " (0028, 1050) Window Center                       DS: \"40.0\"\n",
       " (0028, 1051) Window Width                        DS: \"380.0\"\n",
       " (0028, 1052) Rescale Intercept                   DS: \"0.0\"\n",
       " (0028, 1053) Rescale Slope                       DS: \"1.0\"\n",
       " (0040, 0000) Group Length                        UL: 126\n",
       " (0040, 0002) Scheduled Procedure Step Start Date DA: '20160211'\n",
       " (0040, 0003) Scheduled Procedure Step Start Time TM: '183801.000'\n",
       " (0040, 0004) Scheduled Procedure Step End Date   DA: '20160211'\n",
       " (0040, 0005) Scheduled Procedure Step End Time   TM: '190801.000'\n",
       " (0040, 0244) Performed Procedure Step Start Date DA: '20160211'\n",
       " (0040, 0245) Performed Procedure Step Start Time TM: '183801.000'\n",
       " (0040, 0253) Performed Procedure Step ID         SH: '12705'\n",
       " (0040, 1008) Confidentiality Code                LO: 'N'\n",
       " (07a1, 0000) Private Creator                     UN: b'\\xb2\\x00\\x00\\x00'\n",
       " (07a1, 0010) Private tag data                    LO: 'ELSCINT1'\n",
       " (07a1, 1002) [number of images in series]        UN: b'/\\x00\\x00\\x00'\n",
       " (07a1, 102a) [Tamar Study Status]                UN: b'UNREAD'\n",
       " (07a1, 1040) [Tamar Study Body Part]             UN: b'CHEST '\n",
       " (07a1, 1042) Private tag data                    UN: b'NOT ASSIGNED'\n",
       " (07a1, 1043) [Unknown]                           UN: b'1 '\n",
       " (07a1, 1050) [Tamar Site Id]                     UN: b'\\x1cy'\n",
       " (07a1, 1058) Private tag data                    UN: b'A '\n",
       " (07a1, 105d) Private tag data                    UN: Array of 22 elements\n",
       " (07a1, 105f) Private tag data                    UN: b'N '\n",
       " (07a1, 1085) [Tamar Translate Flags]             UN: b'\\x03\\x00\\x00\\x00'\n",
       " (07a1, 1088) Private tag data                    UN: b'N '\n",
       " (07a1, 1098) Private tag data                    UN: b'N '\n",
       " (07a3, 0000) Private Creator                     UN: b'\\x9e\\x00\\x00\\x00'\n",
       " (07a3, 0010) Private tag data                    LO: 'ELSCINT1'\n",
       " (07a3, 1001) [Tamar Exe Software Version]        UN: b'12.1.5.0'\n",
       " (07a3, 1003) [Tamar Study Has Sticky Note]       UN: b'N '\n",
       " (07a3, 1022) Private tag data                    UN: b'AquilionONE '\n",
       " (07a3, 1034) [Tamar Study Age]                   UN: b'-1'\n",
       " (07a3, 104c) Private tag data                    UN: b'TOSHIBA '\n",
       " (07a3, 1055) [Unknown]                           UN: b'N '\n",
       " (07a3, 105c) Private tag data                    UN: b'0 '\n",
       " (07a3, 108f) Private tag data                    UN: b'N '\n",
       " (07a3, 1099) [Unknown]                           UN: b'N '\n",
       " (07a3, 109c) [Unknown]                           UN: b'N '\n",
       " (07a3, 10b9) Private tag data                    UN: b'N '\n",
       " (07a3, 10bb) Private tag data                    UN: b'N '\n",
       " (07a5, 0000) Private Creator                     UN: b'\\\\\\x00\\x00\\x00'\n",
       " (07a5, 0010) Private tag data                    LO: 'ELSCINT1'\n",
       " (07a5, 1054) Private tag data                    UN: Array of 22 elements\n",
       " (07a5, 1056) Private tag data                    UN: b'N '\n",
       " (07a5, 1069) Private tag data                    UN: b'ANET_01 '\n",
       " (07a5, 10ae) Private tag data                    UN: b'0 '\n",
       " (07a5, 10c8) Private tag data                    UN: b'Y '\n",
       " (7fe0, 0010) Pixel Data                          OW: Array of 524288 elements,\n",
       " array([[[-2048.,     0.,     0., ...,     0.,     0.,     0.],\n",
       "         [-2048.,     0.,     0., ...,     0.,     0.,     0.],\n",
       "         [-2048.,     0.,     0., ...,     0.,     0.,     0.],\n",
       "         ...,\n",
       "         [-2048.,     0.,     0., ...,     0.,     0.,     0.],\n",
       "         [-2048.,     0.,     0., ...,     0.,     0.,     0.],\n",
       "         [-2048.,     0.,     0., ...,     0.,     0.,     0.]],\n",
       " \n",
       "        [[-2048.,     0.,     0., ...,     0.,     0.,     0.],\n",
       "         [-2048.,     0.,     0., ...,     0.,     0.,     0.],\n",
       "         [-2048.,     0.,     0., ...,     0.,     0.,     0.],\n",
       "         ...,\n",
       "         [-2048.,     0.,     0., ...,     0.,     0.,     0.],\n",
       "         [-2048.,     0.,     0., ...,     0.,     0.,     0.],\n",
       "         [-2048.,     0.,     0., ...,     0.,     0.,     0.]],\n",
       " \n",
       "        [[-2048.,     0.,     0., ...,     0.,     0.,     0.],\n",
       "         [-2048.,     0.,     0., ...,     0.,     0.,     0.],\n",
       "         [-2048.,     0.,     0., ...,     0.,     0.,     0.],\n",
       "         ...,\n",
       "         [-2048.,     0.,     0., ...,     0.,     0.,     0.],\n",
       "         [-2048.,     0.,     0., ...,     0.,     0.,     0.],\n",
       "         [-2048.,     0.,     0., ...,     0.,     0.,     0.]],\n",
       " \n",
       "        ...,\n",
       " \n",
       "        [[-2048.,     0.,     0., ...,     0.,     0.,     0.],\n",
       "         [-2048.,     0.,     0., ...,     0.,     0.,     0.],\n",
       "         [-2048.,     0.,     0., ...,     0.,     0.,     0.],\n",
       "         ...,\n",
       "         [-2048.,     0.,     0., ...,     0.,     0.,     0.],\n",
       "         [-2048.,     0.,     0., ...,     0.,     0.,     0.],\n",
       "         [-2048.,     0.,     0., ...,     0.,     0.,     0.]],\n",
       " \n",
       "        [[-2048.,     0.,     0., ...,     0.,     0.,     0.],\n",
       "         [-2048.,     0.,     0., ...,     0.,     0.,     0.],\n",
       "         [-2048.,     0.,     0., ...,     0.,     0.,     0.],\n",
       "         ...,\n",
       "         [-2048.,     0.,     0., ...,     0.,     0.,     0.],\n",
       "         [-2048.,     0.,     0., ...,     0.,     0.,     0.],\n",
       "         [-2048.,     0.,     0., ...,     0.,     0.,     0.]],\n",
       " \n",
       "        [[-2048.,     0.,     0., ...,     0.,     0.,     0.],\n",
       "         [-2048.,     0.,     0., ...,     0.,     0.,     0.],\n",
       "         [-2048.,     0.,     0., ...,     0.,     0.,     0.],\n",
       "         ...,\n",
       "         [-2048.,     0.,     0., ...,     0.,     0.,     0.],\n",
       "         [-2048.,     0.,     0., ...,     0.,     0.,     0.],\n",
       "         [-2048.,     0.,     0., ...,     0.,     0.,     0.]]]),\n",
       " \"3.0\")"
      ]
     },
     "execution_count": 6,
     "metadata": {},
     "output_type": "execute_result"
    }
   ],
   "source": [
    "dcm_reader(tst_path)"
   ]
  },
  {
   "cell_type": "markdown",
   "metadata": {},
   "source": [
    "### `dcm_list_builder`"
   ]
  },
  {
   "cell_type": "code",
   "execution_count": 10,
   "metadata": {},
   "outputs": [],
   "source": [
    "def dcm_list_builder(path, test_text = \"\"):\n",
    "    # function to get list of dcm_files from dcm directory\n",
    "    dcm_path_list = []\n",
    "    for (dirpath, dirnames, filenames) in os.walk(path, topdown=True):\n",
    "        if dirpath not in dcm_path_list:\n",
    "            for filename in filenames:\n",
    "                try:\n",
    "                    tmp_str = str(os.path.join(dirpath, filename))\n",
    "                    ds = pydicom.read_file(tmp_str, stop_before_pixels = True)\n",
    "                    if dirpath not in dcm_path_list:\n",
    "                        dcm_path_list.append(dirpath)\n",
    "                except:\n",
    "                    pass\n",
    "            else:\n",
    "                pass\n",
    "    return dcm_path_list"
   ]
  },
  {
   "cell_type": "code",
   "execution_count": 11,
   "metadata": {},
   "outputs": [
    {
     "data": {
      "text/plain": [
       "['/Users/daleblack/Google Drive/Datasets/Canon_Aquilion_One_Vision/Large_rep1',\n",
       " '/Users/daleblack/Google Drive/Datasets/Canon_Aquilion_One_Vision/Small_rep1',\n",
       " '/Users/daleblack/Google Drive/Datasets/Canon_Aquilion_One_Vision/Large_rep3',\n",
       " '/Users/daleblack/Google Drive/Datasets/Canon_Aquilion_One_Vision/Large_rep4',\n",
       " '/Users/daleblack/Google Drive/Datasets/Canon_Aquilion_One_Vision/Large_rep5',\n",
       " '/Users/daleblack/Google Drive/Datasets/Canon_Aquilion_One_Vision/Large_rep2',\n",
       " '/Users/daleblack/Google Drive/Datasets/Canon_Aquilion_One_Vision/Small_rep4',\n",
       " '/Users/daleblack/Google Drive/Datasets/Canon_Aquilion_One_Vision/Small_rep3',\n",
       " '/Users/daleblack/Google Drive/Datasets/Canon_Aquilion_One_Vision/Small_rep2',\n",
       " '/Users/daleblack/Google Drive/Datasets/Canon_Aquilion_One_Vision/Small_rep5']"
      ]
     },
     "execution_count": 11,
     "metadata": {},
     "output_type": "execute_result"
    }
   ],
   "source": [
    "dcm_list_builder(tst_path)"
   ]
  },
  {
   "cell_type": "code",
   "execution_count": 8,
   "metadata": {},
   "outputs": [],
   "source": [
    "def findCircle(point_1, point_2, point_3): \n",
    "    x1, y1 = point_1\n",
    "    x2, y2 = point_2\n",
    "    x3, y3 = point_3\n",
    "    \n",
    "    x12 = x1 - x2 \n",
    "    x13 = x1 - x3  \n",
    "    y12 = y1 - y2  \n",
    "    y13 = y1 - y3 \n",
    "    y31 = y3 - y1  \n",
    "    y21 = y2 - y1\n",
    "    x31 = x3 - x1  \n",
    "    x21 = x2 - x1 \n",
    " \n",
    "    sx13 = x1**2 - x3**2  \n",
    "    sy13 = y1**2 - y3**2\n",
    "    sx21 = x2**2 - x1**2  \n",
    "    sy21 = y2**2 - y1**2  \n",
    "  \n",
    "    f = (((sx13) * (x12) + (sy13) * (x12) + (sx21) * (x13) +\\\n",
    "          (sy21) * (x13)) // (2 * ((y31) * (x12) - (y21) * (x13)))) \n",
    "              \n",
    "    g = (((sx13) * (y12) + (sy13) * (y12) + (sx21) * (y13) + (sy21) *\\\n",
    "          (y13)) // (2 * ((x31) * (y12) - (x21) * (y13))))  \n",
    "  \n",
    "    # eqn of circle be x^2 + y^2 + 2*g*x + 2*f*y + c = 0 where centre is (h = -g, k = -f)  \n",
    "    center_insert = [-g,-f]\n",
    "\n",
    "    return center_insert"
   ]
  },
  {
   "cell_type": "code",
   "execution_count": 58,
   "metadata": {},
   "outputs": [],
   "source": [
    "def dcm_masked(array_used = None, radius_val = 95, slice_used_center = None):\n",
    "    try:\n",
    "        pixel_size = header.PixelSpacing[0]\n",
    "    except:\n",
    "        FOV = header.ReconstructionDiameter\n",
    "        matrix_size = header.Rows\n",
    "    \n",
    "        pixel_size = FOV / matrix_size\n",
    "    \n",
    "    radius = (radius_val/2) / pixel_size\n",
    "    \n",
    "    central_image = array_used[:,:,slice_used_center].copy()\n",
    "    \n",
    "    central_image[central_image > -200] = 0\n",
    "    central_image[central_image != 0] = 1\n",
    "\n",
    "    image_kernel = math.ceil(5 / header.PixelSpacing[0])\n",
    "    if image_kernel % 2 == 0:\n",
    "        image_kernel += 1\n",
    "    central_image = scipy.signal.medfilt2d(central_image, image_kernel)\n",
    "    \n",
    "    # plt.imshow(central_image)\n",
    "    # plt.show()\n",
    "\n",
    "    center = [int(array_used.shape[0] / 2), int(array_used.shape[1] / 2)]\n",
    "    \n",
    "    a = central_image.copy()\n",
    "    for index in range(int(array_used.shape[1] / 2)):\n",
    "        if (central_image[center[0] + index, center[1] + index] == 1 and\\\n",
    "            central_image[center[0] + index, center[1] + index + 5] == 1):\n",
    "            point_1 = [center[0] + index, center[1] + index]\n",
    "            break\n",
    "        else:\n",
    "            a[center[0] + index, center[1] + index] = 2\n",
    "            pass\n",
    "    \n",
    "    for index in range(int(array_used.shape[1] / 2)):\n",
    "        if (central_image[center[0] + index, center[1] - index] == 1 and\\\n",
    "            central_image[center[0] + index, center[1] - index - 5] == 1):\n",
    "            point_2 = [center[0] + index, center[1] - index]\n",
    "            break\n",
    "        else:\n",
    "            a[center[0] + index, center[1] - index] = 2\n",
    "            pass\n",
    "        \n",
    "    # x_iter = range(center[0], int(array_used.shape[0]), 1)\n",
    "    # y_iter = range(center[1], int(array_used.shape[1]), 2)\n",
    "    # for tmp_x, tmp_y in zip(x_iter, y_iter):\n",
    "    #     if (central_image[tmp_x, tmp_y] == 1 and central_image[tmp_x + 5, tmp_y + 5] == 1):\n",
    "    #         point_3 = [tmp_x, tmp_y]\n",
    "    #         break\n",
    "    #     else:\n",
    "    #         a[tmp_x, tmp_y] = 2\n",
    "    #         pass\n",
    "        \n",
    "        \n",
    "    for index in range(int(array_used.shape[1] / 2)):\n",
    "        if (central_image[center[0] - index, center[1] - index] == 1 and\\\n",
    "            central_image[center[0] - index, center[1] - index - 5] == 1):\n",
    "            point_3 = [center[0] - index, center[1] - index]\n",
    "            break\n",
    "        else:\n",
    "            a[center[0] - index, center[1] - index] = 2\n",
    "            pass\n",
    "        \n",
    "    # plt.imshow(a)\n",
    "    # plt.show()\n",
    "    \n",
    "    center_insert = findCircle(point_1, point_2, point_3)\n",
    "\n",
    "    Y, X = np.ogrid[:header.Rows, :header.Columns]\n",
    "    dist_from_center = np.sqrt((X - center_insert[1])**2 + (Y-center_insert[0])**2)\n",
    "\n",
    "    mask = dist_from_center <= radius  \n",
    "    masked_array = np.zeros_like(array_used)\n",
    "    for index in range(array_used.shape[2]):\n",
    "        masked_array[:,:,index] = array_used[:,:,index] * mask\n",
    "\n",
    "    return masked_array, center_insert, mask"
   ]
  },
  {
   "cell_type": "code",
   "execution_count": 59,
   "metadata": {},
   "outputs": [],
   "source": [
    "def CCI_calcium_image():\n",
    "    # threshold array according to calcium_threshold \n",
    "    # simultaneously make image binary\n",
    "    array = dcm_array.copy()\n",
    "    array[array < 1.1*calcium_threshold] = 0\n",
    "    array[array > 0] = 1\n",
    "    array = array.astype(dtype = np.uint8)\n",
    "    \n",
    "    CCI_5mm_num_pixels = int(math.pi * (5/2)**2 / header.PixelSpacing[0]**2)\n",
    "    cal_rod_num_pixels = int(math.pi * (20/2)**2 / header.PixelSpacing[0]**2)\n",
    "\n",
    "    image_kernel = math.ceil(5 / header.PixelSpacing[0])\n",
    "    if image_kernel % 2 == 0:\n",
    "        image_kernel += 1\n",
    "        \n",
    "    # plt.imshow(array[:,:,20], cmap='bone')\n",
    "    # plt.xticks(fontsize = 35)\n",
    "    # plt.yticks(fontsize = 35)\n",
    "    # plt.show()\n",
    "    \n",
    "    slice_dict =  {}\n",
    "    large_index = []\n",
    "    cal_rod_dict = {}\n",
    "    for idx in range(array.shape[2]):\n",
    "        array_filtered = scipy.signal.medfilt2d(array[:,:,idx], image_kernel)\n",
    "        output = cv2.connectedComponentsWithStats(array_filtered, comp_connect, cv2.CV_32S)\n",
    "        count_5mm = 0\n",
    "        for index in range(1,output[0]):\n",
    "            if output[2][index][4] in range(int(CCI_5mm_num_pixels * 0.6),\\\n",
    "                     int(CCI_5mm_num_pixels * 1.5)):\n",
    "                count_5mm += 1\n",
    "            elif output[2][index][4] in range(int(cal_rod_num_pixels * 0.7),\\\n",
    "                     int(cal_rod_num_pixels * 1.3)):\n",
    "                cal_rod_dict[index] = [int(output[3][index][1]), int(output[3][index][0])]\n",
    "        if (count_5mm > 0 and count_5mm < 4):\n",
    "            slice_dict[idx] = count_5mm\n",
    "    \n",
    "        poppable_keys = []\n",
    "        for key in cal_rod_dict.keys():\n",
    "            start_coordinate = [cal_rod_dict[key][0], cal_rod_dict[key][1]]\n",
    "            \n",
    "            x_right = 0\n",
    "            while array_filtered[start_coordinate[0], start_coordinate[1] + x_right] == 1:\n",
    "                x_right += 1\n",
    "            \n",
    "            x_left = 0\n",
    "            while array_filtered[start_coordinate[0], start_coordinate[1] - x_left] == 1:\n",
    "                x_left += 1\n",
    "            \n",
    "            y_top = 0\n",
    "            while array_filtered[start_coordinate[0] + y_top, start_coordinate[1]] == 1:\n",
    "                y_top += 1\n",
    "            \n",
    "            y_bottom = 0\n",
    "            while array_filtered[start_coordinate[0] - y_bottom, start_coordinate[1]] == 1:\n",
    "                y_bottom += 1\n",
    "                \n",
    "            x_dist = x_right + x_left\n",
    "            y_dist = y_top + y_bottom\n",
    "            \n",
    "            if x_dist not in range(int(0.7*y_dist), int(1.2*y_dist)):\n",
    "                poppable_keys.append(key)\n",
    "            else:\n",
    "                pass\n",
    "            \n",
    "        for key in poppable_keys:\n",
    "                cal_rod_dict.pop(key)\n",
    "                \n",
    "        if len(cal_rod_dict) == 0:\n",
    "            pass\n",
    "        else:\n",
    "            large_index.append(idx)\n",
    "    # flipped_index = np.where(dcm_array[center[0], center[1], :] == max(dcm_array[center[0], center[1], :]))[0][0]\n",
    "    flipped_index = int(statistics.median(large_index))\n",
    "\n",
    "    edge_index = []\n",
    "    if flipped_index < (dcm_array.shape[2] / 2):\n",
    "        flipped = -1\n",
    "        for element in large_index:\n",
    "            if element > (dcm_array.shape[2] / 2):\n",
    "                edge_index.append(element)\n",
    "        if not edge_index:\n",
    "            pass\n",
    "        else:\n",
    "            for index_edge in range(min(edge_index), dcm_array.shape[2]):\n",
    "                try:\n",
    "                    del(slice_dict[index_edge])\n",
    "                except:\n",
    "                    pass\n",
    "            for element2 in edge_index:\n",
    "                large_index.remove(element2)\n",
    "                \n",
    "        for element in range(max(large_index)):\n",
    "            try:\n",
    "                del(slice_dict[element])\n",
    "            except:\n",
    "                pass        \n",
    "    else:\n",
    "        flipped = 1\n",
    "        for element in large_index:\n",
    "            if element < (dcm_array.shape[2] / 2):\n",
    "                edge_index.append(element)\n",
    "        if not edge_index:\n",
    "            pass\n",
    "        else:\n",
    "            for index_edge in range(max(edge_index)):\n",
    "                try:\n",
    "                    del(slice_dict[index_edge])\n",
    "                except:\n",
    "                    pass\n",
    "            for element2 in edge_index:\n",
    "                large_index.remove(element2)\n",
    "        for element in range(min(large_index), dcm_array.shape[2]):\n",
    "            try:\n",
    "                del(slice_dict[element])\n",
    "            except:\n",
    "                pass\n",
    "    \n",
    "    poppable_keys = []        \n",
    "    if flipped == -1:\n",
    "        for key in slice_dict.keys():\n",
    "            if key > (flipped_index + (55 / header.SliceThickness)):\n",
    "                poppable_keys.append(key)\n",
    "    elif flipped == 1:\n",
    "        for key in slice_dict.keys():\n",
    "            if key < (flipped_index - (55 / header.SliceThickness)):\n",
    "                poppable_keys.append(key)\n",
    "    for key in poppable_keys:\n",
    "                slice_dict.pop(key)            \n",
    "                \n",
    "       \n",
    "    max_key, _ = max(zip(slice_dict.values(), slice_dict.keys()))\n",
    "\n",
    "    max_keys = []\n",
    "    for key in slice_dict.keys():\n",
    "        if slice_dict[key] is max_key:\n",
    "            max_keys.append(key)\n",
    "    \n",
    "    slice_CCI = int(statistics.median(max_keys))\n",
    "    \n",
    "    array = dcm_array.copy()\n",
    "    array[array < calcium_threshold] = 0\n",
    "    array[array > 0] = 1\n",
    "    array = array.astype(dtype = np.uint8)\n",
    "    \n",
    "    calcium_image = array * dcm_array\n",
    "    quality_slice = round(slice_CCI - flipped * (20 / header.SliceThickness))\n",
    "\n",
    "    cal_rod_slice = slice_CCI + (flipped * int(30 / header.SliceThickness))\n",
    "    \n",
    "    return calcium_image, slice_CCI, quality_slice, cal_rod_slice, flipped"
   ]
  },
  {
   "cell_type": "code",
   "execution_count": 60,
   "metadata": {},
   "outputs": [],
   "source": [
    "def calc_centers(output, tmp_center, CCI_array):\n",
    "    sizes = []\n",
    "    for size_index in range(1,len(output[2])):\n",
    "        sizes.append(output[2][size_index][4])\n",
    "\n",
    "    largest = {}\n",
    "    for index in range(1,len(output[3])):\n",
    "        dist_loc = math.sqrt((tmp_center[1] - output[3][index][0])**2 +\\\n",
    "                             (tmp_center[0] - output[3][index][1])**2)\n",
    "        dist_loc *= header.PixelSpacing[0]\n",
    "        if dist_loc > 31:\n",
    "            largest[index] = [int(output[3][index][1]),int(output[3][index][0])]\n",
    "        else:\n",
    "            pass\n",
    "\n",
    "    max_dict = {}\n",
    "    for key in largest.keys():\n",
    "        tmp_arr = create_circular_mask(header.Rows, header.Columns,\\\n",
    "                                       [largest[key][1],largest[key][0]],\\\n",
    "                                       math.ceil(2.5 / header.PixelSpacing[0]))\n",
    "        tmp_arr = tmp_arr * dcm_array[:,:,CCI_slice] +\\\n",
    "                    tmp_arr * dcm_array[:,:,CCI_slice - 1] +\\\n",
    "                    tmp_arr * dcm_array[:,:,CCI_slice + 1]\n",
    "        tmp_arr[tmp_arr == 0] = np.nan\n",
    "        max_dict[key] = np.nanmedian(tmp_arr)\n",
    "\n",
    "    large1_index, large1_key = max(zip(max_dict.values(), max_dict.keys()))\n",
    "    max_dict.pop(large1_key)\n",
    "    large2_index, large2_key = max(zip(max_dict.values(), max_dict.keys()))\n",
    "    max_dict.pop(large2_key)\n",
    "    large3_index, large3_key = max(zip(max_dict.values(), max_dict.keys()))\n",
    "\n",
    "    center1 = largest[large1_key]\n",
    "    center2 = largest[large2_key]  \n",
    "    center3 = largest[large3_key]       \n",
    "\n",
    "    global center\n",
    "    center = findCircle(center1, center2, center3)\n",
    "    \n",
    "    \n",
    "    centers = {}\n",
    "    for size_index4 in (center1, center2, center3):\n",
    "        center_index = size_index4\n",
    "        side_x = abs(center[0]-center_index[0])\n",
    "        side_y = abs(center[1]-center_index[1])\n",
    "        \n",
    "        angle = angle_calc(side_x, side_y)\n",
    "        if (center_index[0] < center[0] and center_index[1] < center[1]):\n",
    "                medium_calc = [int(center_index[0] + (12.5 / header.PixelSpacing[0]) * math.sin(angle)),\\\n",
    "                               int((center_index[1] + (12.5 / header.PixelSpacing[1]) * math.cos(angle)))]\n",
    "            \n",
    "                low_calc = [int(center_index[0] + (25 / header.PixelSpacing[0]) * math.sin(angle)),\\\n",
    "                            int((center_index[1] + (25 / header.PixelSpacing[1]) * math.cos(angle)))]\n",
    "        elif (center_index[0] < center[0] and center_index[1] > center[1]):\n",
    "                medium_calc = [int(center_index[0] + (12.5 / header.PixelSpacing[0]) * math.sin(angle)),\\\n",
    "                               int((center_index[1] - (12.5 / header.PixelSpacing[1]) * math.cos(angle)))]\n",
    "            \n",
    "                low_calc = [int(center_index[0] + (25 / header.PixelSpacing[0]) * math.sin(angle)),\\\n",
    "                            int((center_index[1] - (25 / header.PixelSpacing[1]) * math.cos(angle)))] \n",
    "        elif (center_index[0] > center[0] and center_index[1] < center[1]):\n",
    "                medium_calc = [int(center_index[0] - (12.5 / header.PixelSpacing[0]) * math.sin(angle)),\\\n",
    "                               int((center_index[1] + (12.5 / header.PixelSpacing[1]) * math.cos(angle)))]\n",
    "            \n",
    "                low_calc = [int(center_index[0] - (25 / header.PixelSpacing[0]) * math.sin(angle)),\\\n",
    "                            int((center_index[1] + (25 / header.PixelSpacing[1]) * math.cos(angle)))]\n",
    "        elif (center_index[0] > center[0] and center_index[1] > center[1]):\n",
    "                medium_calc = [int(center_index[0] - (12.5 / header.PixelSpacing[0]) * math.sin(angle)),\\\n",
    "                               int((center_index[1] - (12.5 / header.PixelSpacing[1]) * math.cos(angle)))]\n",
    "            \n",
    "                low_calc = [int(center_index[0] - (25 / header.PixelSpacing[0]) * math.sin(angle)),\\\n",
    "                            int((center_index[1] - (25 / header.PixelSpacing[1]) * math.cos(angle)))]\n",
    "        elif (side_x == 0 and center_index[1] < center[1]):\n",
    "                medium_calc = [int(center_index[0]), int(center_index[1] + (12.5 / header.PixelSpacing[1]))]\n",
    "            \n",
    "                low_calc = [int(center_index[0]), int(center_index[1] + (25 / header.PixelSpacing[1]))]\n",
    "        elif (side_x == 0 and center_index[1] > center[1]):\n",
    "                medium_calc = [int(center_index[0]), int(center_index[1] - (12.5 / header.PixelSpacing[1]))]\n",
    "            \n",
    "                low_calc = [int(center_index[0]), int(center_index[1] - (25 / header.PixelSpacing[1]))]\n",
    "        elif (center_index[0] > center[0] and side_y == 0):\n",
    "                medium_calc = [int(center_index[0] - (12.5 / header.PixelSpacing[0])), int(center_index[1])]\n",
    "            \n",
    "                low_calc = [int(center_index[0] - (25 / header.PixelSpacing[0])), int(center_index[1])]\n",
    "        elif (center_index[0] > center[0] and side_y == 0):\n",
    "                medium_calc = [int(center_index[0] + (12.5 / header.PixelSpacing[0])), int(center_index[1])]\n",
    "            \n",
    "                low_calc = [int(center_index[0] + (25 / header.PixelSpacing[0])), int(center_index[1])]\n",
    "        else:\n",
    "                print(\"unknown angle.. error!\")\n",
    "                \n",
    "        if size_index4 == center1:\n",
    "            centers['Large_HD'] = ([center_index])\n",
    "            centers['Medium_HD'] = ([medium_calc])\n",
    "            centers['Small_HD'] = ([low_calc])            \n",
    "        \n",
    "        elif size_index4 == center2:\n",
    "            centers['Large_MD'] = ([center_index])\n",
    "            centers['Medium_MD'] = ([medium_calc])\n",
    "            centers['Small_MD'] = ([low_calc])    \n",
    "        \n",
    "        elif size_index4 == center3:\n",
    "            centers['Large_LD'] = ([center_index])\n",
    "            centers['Medium_LD'] = ([medium_calc])\n",
    "            centers['Small_LD'] = ([low_calc])   \n",
    "        \n",
    "        else:\n",
    "            pass\n",
    "    \n",
    "    return centers"
   ]
  },
  {
   "cell_type": "code",
   "execution_count": 61,
   "metadata": {},
   "outputs": [],
   "source": [
    "def angle_calc(side1, side2):\n",
    "    #Calculate angle between two sides of rectangular triangle\n",
    "    if side1 == 0:\n",
    "        angle = 0\n",
    "    elif side2 == 0:\n",
    "        angle = math.pi / 2\n",
    "    else:\n",
    "        angle = math.atan(side1 / side2)\n",
    "    \n",
    "    return angle"
   ]
  },
  {
   "cell_type": "code",
   "execution_count": 62,
   "metadata": {},
   "outputs": [],
   "source": [
    "def create_circular_mask(h, w, center_circle, radius_circle):\n",
    "\n",
    "    Y, X = np.ogrid[:h, :w]\n",
    "    dist_from_center = np.sqrt((X - center_circle[0])**2 + (Y-center_circle[1])**2)\n",
    "\n",
    "    mask = dist_from_center <= radius_circle\n",
    "    \n",
    "    return mask"
   ]
  },
  {
   "cell_type": "code",
   "execution_count": 85,
   "metadata": {},
   "outputs": [],
   "source": [
    "def mask_inserts(print_plot = False):\n",
    "    # Actual scoring for CCI insert\n",
    "    # First step is to remove slices without calcium from arrays            \n",
    "    CCI_min = int((CCI_slice - math.ceil(5 / header.SliceThickness)) - 1)\n",
    "    CCI_max = int((CCI_slice + math.ceil(5 / header.SliceThickness)) + 1)\n",
    "    central_CCI = int((CCI_max - CCI_min)/2)\n",
    "    \n",
    "    if CCI_min < 0:\n",
    "        CCI_min = 0\n",
    "    if CCI_max > dcm_array.shape[2]:\n",
    "        CCI_max = dcm_array.shape[2]\n",
    "    \n",
    "    CCI_array = dcm_array[:,:,CCI_min:CCI_max].copy()\n",
    "    \n",
    "    CCI_array_binary = CCI_array.copy()\n",
    "    CCI_array_binary[CCI_array_binary < 1.0*calcium_threshold] = 0\n",
    "    CCI_array_binary[CCI_array_binary > 0] = 1\n",
    "    CCI_array_binary = CCI_array_binary.astype(dtype = np.uint8)\n",
    "    \n",
    "    _, _, _, centroids = cv2.connectedComponentsWithStats(CCI_array_binary[:,:,central_CCI - 1] +\\\n",
    "                                                          CCI_array_binary[:,:,central_CCI] +\\\n",
    "                                                          CCI_array_binary[:,:,central_CCI + 1],\\\n",
    "                                                          comp_connect,cv2.CV_32S)\n",
    "    \n",
    "    centroids = np.delete(centroids,0,0)\n",
    "    \n",
    "\n",
    "    image_kernel = math.ceil(3 / header.PixelSpacing[0])\n",
    "    if image_kernel % 2 == 0:\n",
    "        image_kernel += 1\n",
    "        \n",
    "    image_for_center = scipy.signal.medfilt2d(CCI_array_binary[:,:,central_CCI - 1], image_kernel) +\\\n",
    "                       scipy.signal.medfilt2d(CCI_array_binary[:,:,central_CCI], image_kernel) +\\\n",
    "                       scipy.signal.medfilt2d(CCI_array_binary[:,:,central_CCI + 1], image_kernel)\n",
    "                       \n",
    "    if print_plot:\n",
    "        plt.imshow(image_for_center)\n",
    "        plt.show()\n",
    "        plt.imshow(image_for_center, cmap='bone')\n",
    "        plt.xticks(fontsize = 10)\n",
    "        plt.yticks(fontsize = 10)\n",
    "        plt.show()\n",
    "    \n",
    "    output = cv2.connectedComponentsWithStats(image_for_center, comp_connect,cv2.CV_32S)\n",
    "\n",
    "    tmp_center = center.copy()\n",
    "    calc_size_density_VS_AS_MS = calc_centers(output, tmp_center, CCI_array)\n",
    "        \n",
    "    for key in calc_size_density_VS_AS_MS.keys():\n",
    "        calc_size_density_VS_AS_MS[key].append(0)\n",
    "        calc_size_density_VS_AS_MS[key].append(0)\n",
    "        calc_size_density_VS_AS_MS[key].append(0)\n",
    "    \n",
    "    mask_L_HD = create_circular_mask(header.Columns, header.Rows, [calc_size_density_VS_AS_MS['Large_HD'][0][1],\\\n",
    "                       calc_size_density_VS_AS_MS['Large_HD'][0][0]],math.ceil((5 / header.PixelSpacing[0])/2) + 1)\n",
    "    mask_L_MD = create_circular_mask(header.Columns, header.Rows, [calc_size_density_VS_AS_MS['Large_MD'][0][1],\\\n",
    "                       calc_size_density_VS_AS_MS['Large_MD'][0][0]],math.ceil((5 / header.PixelSpacing[0])/2) + 1)\n",
    "    mask_L_LD = create_circular_mask(header.Columns, header.Rows, [calc_size_density_VS_AS_MS['Large_LD'][0][1],\\\n",
    "                       calc_size_density_VS_AS_MS['Large_LD'][0][0]],math.ceil((5 / header.PixelSpacing[0])/2) + 1)   \n",
    "    mask_M_HD = create_circular_mask(header.Columns, header.Rows, [calc_size_density_VS_AS_MS['Medium_HD'][0][1],\\\n",
    "                       calc_size_density_VS_AS_MS['Medium_HD'][0][0]],math.ceil((3 / header.PixelSpacing[0])/2) + 1)\n",
    "    mask_M_MD = create_circular_mask(header.Columns, header.Rows, [calc_size_density_VS_AS_MS['Medium_MD'][0][1],\\\n",
    "                       calc_size_density_VS_AS_MS['Medium_MD'][0][0]],math.ceil((3 / header.PixelSpacing[0])/2) + 1)\n",
    "    mask_M_LD = create_circular_mask(header.Columns, header.Rows, [calc_size_density_VS_AS_MS['Medium_LD'][0][1],\\\n",
    "                       calc_size_density_VS_AS_MS['Medium_LD'][0][0]],math.ceil((3 / header.PixelSpacing[0])/2) + 1) \n",
    "    mask_S_HD = create_circular_mask(header.Columns, header.Rows, [calc_size_density_VS_AS_MS['Small_HD'][0][1],\\\n",
    "                       calc_size_density_VS_AS_MS['Small_HD'][0][0]],math.ceil((1 / header.PixelSpacing[0])/2) + 1)\n",
    "    mask_S_MD = create_circular_mask(header.Columns, header.Rows, [calc_size_density_VS_AS_MS['Small_MD'][0][1],\\\n",
    "                       calc_size_density_VS_AS_MS['Small_MD'][0][0]],math.ceil((1 / header.PixelSpacing[0])/2) + 1)\n",
    "    mask_S_LD = create_circular_mask(header.Columns, header.Rows, [calc_size_density_VS_AS_MS['Small_LD'][0][1],\\\n",
    "                       calc_size_density_VS_AS_MS['Small_LD'][0][0]],math.ceil((1 / header.PixelSpacing[0])/2) + 1) \n",
    "    \n",
    "    \n",
    "    masks1 = mask_L_HD + mask_M_HD + mask_S_HD\n",
    "    masks2 = mask_L_MD + mask_M_MD + mask_S_MD\n",
    "    masks3 = mask_L_LD + mask_M_LD + mask_S_LD\n",
    "\n",
    "    if print_plot:\n",
    "        plt.imshow(masks1 + masks2 + masks3, cmap='bone')\n",
    "        plt.xticks(fontsize = 10)\n",
    "        plt.yticks(fontsize = 10)\n",
    "        plt.show()\n",
    "\n",
    "    return mask_L_HD, mask_M_HD, mask_S_HD, mask_L_MD, mask_M_MD, mask_S_MD, mask_L_LD, mask_M_LD, mask_S_LD"
   ]
  },
  {
   "cell_type": "markdown",
   "metadata": {},
   "source": [
    "## Load DICOMs"
   ]
  },
  {
   "cell_type": "code",
   "execution_count": 64,
   "metadata": {},
   "outputs": [],
   "source": [
    "root_path = r'/Users/daleblack/Google Drive/Datasets/Canon_Aquilion_One_Vision/'"
   ]
  },
  {
   "cell_type": "code",
   "execution_count": 65,
   "metadata": {},
   "outputs": [],
   "source": [
    "dcm_path_list = dcm_list_builder(root_path)"
   ]
  },
  {
   "cell_type": "code",
   "execution_count": 66,
   "metadata": {},
   "outputs": [
    {
     "data": {
      "text/plain": [
       "['/Users/daleblack/Google Drive/Datasets/Canon_Aquilion_One_Vision/Large_rep1',\n",
       " '/Users/daleblack/Google Drive/Datasets/Canon_Aquilion_One_Vision/Small_rep1',\n",
       " '/Users/daleblack/Google Drive/Datasets/Canon_Aquilion_One_Vision/Large_rep3',\n",
       " '/Users/daleblack/Google Drive/Datasets/Canon_Aquilion_One_Vision/Large_rep4',\n",
       " '/Users/daleblack/Google Drive/Datasets/Canon_Aquilion_One_Vision/Large_rep5',\n",
       " '/Users/daleblack/Google Drive/Datasets/Canon_Aquilion_One_Vision/Large_rep2',\n",
       " '/Users/daleblack/Google Drive/Datasets/Canon_Aquilion_One_Vision/Small_rep4',\n",
       " '/Users/daleblack/Google Drive/Datasets/Canon_Aquilion_One_Vision/Small_rep3',\n",
       " '/Users/daleblack/Google Drive/Datasets/Canon_Aquilion_One_Vision/Small_rep2',\n",
       " '/Users/daleblack/Google Drive/Datasets/Canon_Aquilion_One_Vision/Small_rep5']"
      ]
     },
     "execution_count": 66,
     "metadata": {},
     "output_type": "execute_result"
    }
   ],
   "source": [
    "dcm_path_list"
   ]
  },
  {
   "cell_type": "code",
   "execution_count": 76,
   "metadata": {},
   "outputs": [],
   "source": [
    "header, dcm_array, slice_thick_ori = dcm_reader(dcm_path_list[6])\n",
    "dcm_array_ori = dcm_array.copy()"
   ]
  },
  {
   "cell_type": "markdown",
   "metadata": {},
   "source": [
    "## 1. Segment Whole Heart"
   ]
  },
  {
   "cell_type": "code",
   "execution_count": 77,
   "metadata": {},
   "outputs": [],
   "source": [
    "# mask insert of dcm_array\n",
    "dcm_array, center, mask = dcm_masked(array_used = dcm_array,\\\n",
    "                                                        slice_used_center = int(dcm_array.shape[2]/2))"
   ]
  },
  {
   "cell_type": "code",
   "execution_count": 78,
   "metadata": {},
   "outputs": [
    {
     "data": {
      "text/plain": [
       "<matplotlib.image.AxesImage at 0x13d2dbbb0>"
      ]
     },
     "execution_count": 78,
     "metadata": {},
     "output_type": "execute_result"
    },
    {
     "data": {
      "image/png": "[encoded data removed]",
      "text/plain": [
       "<Figure size 432x288 with 1 Axes>"
      ]
     },
     "metadata": {
      "needs_background": "light"
     },
     "output_type": "display_data"
    }
   ],
   "source": [
    "plt.imshow(dcm_array_ori[:,:,10], cmap='gray')"
   ]
  },
  {
   "cell_type": "code",
   "execution_count": 79,
   "metadata": {},
   "outputs": [
    {
     "data": {
      "text/plain": [
       "<matplotlib.image.AxesImage at 0x13d0069d0>"
      ]
     },
     "execution_count": 79,
     "metadata": {},
     "output_type": "execute_result"
    },
    {
     "data": {
      "image/png": "[encoded data removed]",
      "text/plain": [
       "<Figure size 432x288 with 1 Axes>"
      ]
     },
     "metadata": {
      "needs_background": "light"
     },
     "output_type": "display_data"
    }
   ],
   "source": [
    "plt.imshow(mask[:,:], cmap='gray')"
   ]
  },
  {
   "cell_type": "code",
   "execution_count": 80,
   "metadata": {},
   "outputs": [
    {
     "data": {
      "text/plain": [
       "<matplotlib.image.AxesImage at 0x13d053cd0>"
      ]
     },
     "execution_count": 80,
     "metadata": {},
     "output_type": "execute_result"
    },
    {
     "data": {
      "image/png": "[encoded data removed]",
      "text/plain": [
       "<Figure size 432x288 with 1 Axes>"
      ]
     },
     "metadata": {
      "needs_background": "light"
     },
     "output_type": "display_data"
    }
   ],
   "source": [
    "plt.imshow(dcm_array[:,:,10], cmap='gray')"
   ]
  },
  {
   "cell_type": "markdown",
   "metadata": {},
   "source": [
    "## 2. Segment Calcium Calibration Rod\n",
    "Segment the large calibration calcium rod insert"
   ]
  },
  {
   "cell_type": "code",
   "execution_count": 81,
   "metadata": {},
   "outputs": [],
   "source": [
    "calcium_threshold = 130\n",
    "comp_connect = 4"
   ]
  },
  {
   "cell_type": "code",
   "execution_count": 82,
   "metadata": {},
   "outputs": [],
   "source": [
    "calcium_image, CCI_slice, quality_slice, cal_rod_slice, flipped = CCI_calcium_image()"
   ]
  },
  {
   "cell_type": "code",
   "execution_count": 83,
   "metadata": {},
   "outputs": [
    {
     "data": {
      "text/plain": [
       "<matplotlib.image.AxesImage at 0x13d3946d0>"
      ]
     },
     "execution_count": 83,
     "metadata": {},
     "output_type": "execute_result"
    },
    {
     "data": {
      "image/png": "[encoded data removed]",
      "text/plain": [
       "<Figure size 432x288 with 1 Axes>"
      ]
     },
     "metadata": {
      "needs_background": "light"
     },
     "output_type": "display_data"
    }
   ],
   "source": [
    "plt.imshow(calcium_image[:,:,10], cmap='gray')"
   ]
  },
  {
   "cell_type": "markdown",
   "metadata": {},
   "source": [
    "## Segment Inserts\n",
    "Segment the 9 inserts"
   ]
  },
  {
   "cell_type": "code",
   "execution_count": 86,
   "metadata": {},
   "outputs": [
    {
     "data": {
      "image/png": "[encoded data removed]",
      "text/plain": [
       "<Figure size 432x288 with 1 Axes>"
      ]
     },
     "metadata": {
      "needs_background": "light"
     },
     "output_type": "display_data"
    },
    {
     "data": {
      "image/png": "[encoded data removed]",
      "text/plain": [
       "<Figure size 432x288 with 1 Axes>"
      ]
     },
     "metadata": {
      "needs_background": "light"
     },
     "output_type": "display_data"
    },
    {
     "data": {
      "image/png": "[encoded data removed]",
      "text/plain": [
       "<Figure size 432x288 with 1 Axes>"
      ]
     },
     "metadata": {
      "needs_background": "light"
     },
     "output_type": "display_data"
    }
   ],
   "source": [
    "mask1, mask2, mask3, mask4, mask5, mask6, mask7, mask8, mask9 = mask_inserts(True)"
   ]
  },
  {
   "cell_type": "code",
   "execution_count": null,
   "metadata": {},
   "outputs": [],
   "source": []
  }
 ],
 "metadata": {
  "interpreter": {
   "hash": "31f2aee4e71d21fbe5cf8b01ff0e069b9275f58929596ceb00d14d90e3e16cd6"
  },
  "kernelspec": {
   "display_name": "Python 3.8.2 64-bit",
   "name": "python3"
  },
  "language_info": {
   "codemirror_mode": {
    "name": "ipython",
    "version": 3
   },
   "file_extension": ".py",
   "mimetype": "text/x-python",
   "name": "python",
   "nbconvert_exporter": "python",
   "pygments_lexer": "ipython3",
   "version": "3.8.2"
  },
  "orig_nbformat": 4
 },
 "nbformat": 4,
 "nbformat_minor": 2
}
